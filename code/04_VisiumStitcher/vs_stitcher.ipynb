{
 "cells": [
  {
   "cell_type": "code",
   "execution_count": 1,
   "id": "9bf01fa9-6c67-4b73-9c2e-7a9c867ae84c",
   "metadata": {},
   "outputs": [],
   "source": [
    "import scanpy as sc\n",
    "import visium_stitcher as vs\n",
    "import pandas as pd\n",
    "import numpy as np\n",
    "import matplotlib.pyplot as plt "
   ]
  },
  {
   "cell_type": "code",
   "execution_count": 2,
   "id": "8ba8dd59-31aa-434e-94e5-3494330b4623",
   "metadata": {},
   "outputs": [],
   "source": [
    "# Read in the .csv with sample key\n",
    "homeDir = \"/data/abattle4/prashanthi/spatial_NAc/\"\n",
    "sample_key = pd.read_csv(homeDir + \"raw-data/sample_key_spatial_NAc.csv\")"
   ]
  },
  {
   "cell_type": "code",
   "execution_count": 3,
   "id": "6d7afb5b-248b-4f05-bc8f-8a72b3719830",
   "metadata": {},
   "outputs": [
    {
     "name": "stderr",
     "output_type": "stream",
     "text": [
      "/home/pravich2/.conda/envs/vs_stitcher/lib/python3.10/site-packages/anndata/_core/anndata.py:1830: UserWarning: Variable names are not unique. To make them unique, call `.var_names_make_unique`.\n",
      "  utils.warn_names_duplicates(\"var\")\n",
      "/home/pravich2/.conda/envs/vs_stitcher/lib/python3.10/site-packages/anndata/_core/anndata.py:1830: UserWarning: Variable names are not unique. To make them unique, call `.var_names_make_unique`.\n",
      "  utils.warn_names_duplicates(\"var\")\n",
      "/home/pravich2/.conda/envs/vs_stitcher/lib/python3.10/site-packages/anndata/_core/anndata.py:1830: UserWarning: Variable names are not unique. To make them unique, call `.var_names_make_unique`.\n",
      "  utils.warn_names_duplicates(\"var\")\n",
      "/home/pravich2/.conda/envs/vs_stitcher/lib/python3.10/site-packages/anndata/_core/anndata.py:1830: UserWarning: Variable names are not unique. To make them unique, call `.var_names_make_unique`.\n",
      "  utils.warn_names_duplicates(\"var\")\n",
      "/home/pravich2/.conda/envs/vs_stitcher/lib/python3.10/site-packages/anndata/_core/anndata.py:1830: UserWarning: Variable names are not unique. To make them unique, call `.var_names_make_unique`.\n",
      "  utils.warn_names_duplicates(\"var\")\n",
      "/home/pravich2/.conda/envs/vs_stitcher/lib/python3.10/site-packages/anndata/_core/anndata.py:1830: UserWarning: Variable names are not unique. To make them unique, call `.var_names_make_unique`.\n",
      "  utils.warn_names_duplicates(\"var\")\n"
     ]
    }
   ],
   "source": [
    "adatas = []\n",
    "for i in range(sample_key.shape[0]):\n",
    "    adata = sc.read_visium(homeDir + \"processed-data/01_spaceranger_reorg/\" +\n",
    "                       sample_key.Slide[0] + \"/outs\", count_file=\"filtered_feature_bc_matrix.h5\")\n",
    "    adata.var_names_make_unique()\n",
    "    adata.obs_names = [sample_key.Slide[0]+i for i in adata.obs_names]\n",
    "    adata.obs['sample'] = sample_key.Slide[0]\n",
    "    transform = vs.transform_finder(homeDir + sample_key['XML file name'][0])\n",
    "    adata.uns['transform'] = transform[\"01_spaceranger/spaceranger_2023-04-03_SPag022423/\" + sample_key.Slide[0] + \"/outs/spatial/tissue_hires_image.png\"]\n",
    "    adatas.append(adata)"
   ]
  },
  {
   "cell_type": "code",
   "execution_count": 7,
   "id": "4ab80878-3cb2-4ac4-ae9d-dd63e39ef336",
   "metadata": {},
   "outputs": [
    {
     "name": "stdout",
     "output_type": "stream",
     "text": [
      "Br2720\n",
      "Br8667\n"
     ]
    }
   ],
   "source": [
    "Br2720_1 = vs.stitch(adatas[0:3], image = sample_key[])\n"
   ]
  },
  {
   "cell_type": "code",
   "execution_count": 11,
   "id": "93e93e85-a827-42ee-a8f9-16144aa7f821",
   "metadata": {},
   "outputs": [
    {
     "data": {
      "text/plain": [
       "'processed-data/02_image_stitching/ImageJ_out/stitched_images/V12D07-74.png'"
      ]
     },
     "execution_count": 11,
     "metadata": {},
     "output_type": "execute_result"
    }
   ],
   "source": [
    "sample_key['Stitched image file'][0]"
   ]
  },
  {
   "cell_type": "code",
   "execution_count": null,
   "id": "10abd933-bf0c-4df5-89a1-ee6e02785566",
   "metadata": {},
   "outputs": [],
   "source": []
  }
 ],
 "metadata": {
  "kernelspec": {
   "display_name": "vs_stitcher",
   "language": "python",
   "name": "vs_stitcher"
  },
  "language_info": {
   "codemirror_mode": {
    "name": "ipython",
    "version": 3
   },
   "file_extension": ".py",
   "mimetype": "text/x-python",
   "name": "python",
   "nbconvert_exporter": "python",
   "pygments_lexer": "ipython3",
   "version": "3.10.10"
  }
 },
 "nbformat": 4,
 "nbformat_minor": 5
}
