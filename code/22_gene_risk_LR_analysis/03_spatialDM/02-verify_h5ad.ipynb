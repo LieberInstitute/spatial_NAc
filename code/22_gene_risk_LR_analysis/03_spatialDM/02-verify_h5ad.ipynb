{
 "cells": [
  {
   "cell_type": "code",
   "execution_count": 1,
   "metadata": {},
   "outputs": [],
   "source": [
    "import scanpy as sc\n",
    "import json\n",
    "import os\n",
    "from PIL import Image\n",
    "import numpy as np"
   ]
  },
  {
   "cell_type": "code",
   "execution_count": 2,
   "metadata": {},
   "outputs": [],
   "source": [
    "# Paths\n",
    "h5ad_dir = \"/dcs04/lieber/marmaypag/spatialNac_LIBD4125/spatial_NAc/processed-data/22_gene_risk_LR_analysis/03_tensor_cell2cell/input_files\"\n",
    "image_dir = \"/dcs04/lieber/marmaypag/spatialNac_LIBD4125/spatial_NAc/processed-data/04_VisiumStitcher\"\n",
    "\n",
    "# Sample IDs\n",
    "sample_ids = [\"Br2720\", \"Br2743\", \"Br6432\", \"Br6423\", \"Br6522\",\n",
    "              \"Br6471\", \"Br8492\", \"Br8325\", \"Br3942\", \"Br8667\"]"
   ]
  },
  {
   "cell_type": "code",
   "execution_count": 3,
   "metadata": {},
   "outputs": [
    {
     "name": "stdout",
     "output_type": "stream",
     "text": [
      "Processing sample: Br2720\n",
      "Saved updated Br2720.h5ad\n",
      "\n",
      "Processing sample: Br2743\n",
      "Saved updated Br2743.h5ad\n",
      "\n",
      "Processing sample: Br6432\n",
      "Saved updated Br6432.h5ad\n",
      "\n",
      "Processing sample: Br6423\n",
      "Saved updated Br6423.h5ad\n",
      "\n",
      "Processing sample: Br6522\n",
      "Saved updated Br6522.h5ad\n",
      "\n",
      "Processing sample: Br6471\n",
      "Saved updated Br6471.h5ad\n",
      "\n",
      "Processing sample: Br8492\n",
      "Saved updated Br8492.h5ad\n",
      "\n",
      "Processing sample: Br8325\n",
      "Saved updated Br8325.h5ad\n",
      "\n",
      "Processing sample: Br3942\n",
      "Saved updated Br3942.h5ad\n",
      "\n",
      "Processing sample: Br8667\n",
      "Saved updated Br8667.h5ad\n",
      "\n"
     ]
    }
   ],
   "source": [
    "for sample in sample_ids:\n",
    "    print(f\"Processing sample: {sample}\")\n",
    "    \n",
    "    # File paths\n",
    "    h5ad_path = os.path.join(h5ad_dir, f\"{sample}.h5ad\")\n",
    "    img_path = os.path.join(image_dir, sample, \"tissue_lowres_image.png\")\n",
    "    sf_path = os.path.join(image_dir, sample, \"scalefactors_json.json\")\n",
    "\n",
    "    # Load data\n",
    "    adata = sc.read_h5ad(h5ad_path)\n",
    "    image = np.array(Image.open(img_path))\n",
    "    with open(sf_path, 'r') as f:\n",
    "        scalefactors = json.load(f)\n",
    "\n",
    "    # Attach image and metadata\n",
    "    adata.uns[\"spatial\"] = {\n",
    "        sample: {\n",
    "            \"images\": {\n",
    "                \"lowres\": image\n",
    "            },\n",
    "            \"scalefactors\": scalefactors,\n",
    "            \"metadata\": {\n",
    "                \"source\": \"manual-attachment\"\n",
    "            }\n",
    "        }\n",
    "    }\n",
    "\n",
    "    # Set pixel coordinates\n",
    "    adata.obsm[\"spatial\"] = adata.obs[[\"y\", \"x\"]].to_numpy()\n",
    "\n",
    "    # Save updated file without compression\n",
    "    adata.write_h5ad(h5ad_path)\n",
    "    \n",
    "    print(f\"Saved updated {sample}.h5ad\\n\")"
   ]
  }
 ],
 "metadata": {
  "kernelspec": {
   "display_name": "vs_stitcher",
   "language": "python",
   "name": "python3"
  },
  "language_info": {
   "codemirror_mode": {
    "name": "ipython",
    "version": 3
   },
   "file_extension": ".py",
   "mimetype": "text/x-python",
   "name": "python",
   "nbconvert_exporter": "python",
   "pygments_lexer": "ipython3",
   "version": "3.12.11"
  }
 },
 "nbformat": 4,
 "nbformat_minor": 2
}
